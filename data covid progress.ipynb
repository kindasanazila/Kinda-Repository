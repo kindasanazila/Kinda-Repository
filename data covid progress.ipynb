{
 "cells": [
  {
   "cell_type": "code",
   "execution_count": 1,
   "metadata": {},
   "outputs": [
    {
     "name": "stdout",
     "output_type": "stream",
     "text": [
      "Requirement already satisfied: requests in /home/jupyterlab/conda/envs/python/lib/python3.6/site-packages (2.24.0)\n",
      "Requirement already satisfied: idna<3,>=2.5 in /home/jupyterlab/conda/envs/python/lib/python3.6/site-packages (from requests) (2.10)\n",
      "Requirement already satisfied: certifi>=2017.4.17 in /home/jupyterlab/conda/envs/python/lib/python3.6/site-packages (from requests) (2020.6.20)\n",
      "Requirement already satisfied: urllib3!=1.25.0,!=1.25.1,<1.26,>=1.21.1 in /home/jupyterlab/conda/envs/python/lib/python3.6/site-packages (from requests) (1.25.10)\n",
      "Requirement already satisfied: chardet<4,>=3.0.2 in /home/jupyterlab/conda/envs/python/lib/python3.6/site-packages (from requests) (3.0.4)\n",
      "Note: you may need to restart the kernel to use updated packages.\n"
     ]
    }
   ],
   "source": [
    "pip install requests"
   ]
  },
  {
   "cell_type": "code",
   "execution_count": 17,
   "metadata": {},
   "outputs": [],
   "source": [
    "import numpy as np\n",
    "import pandas as pd\n",
    "import requests\n",
    "import json\n",
    "import matplotlib\n",
    "from matplotlib import pyplot"
   ]
  },
  {
   "cell_type": "code",
   "execution_count": null,
   "metadata": {},
   "outputs": [],
   "source": [
    "def get_json(api_url):\n",
    "    response = requests.get(api_url)\n",
    "    if response.status_code == 200:\n",
    "        return json.loads(response.content.decode('utf-8'))\n",
    "    else:\n",
    "        return None"
   ]
  },
  {
   "cell_type": "code",
   "execution_count": 5,
   "metadata": {},
   "outputs": [],
   "source": [
    "#https://covid19-api.org/"
   ]
  },
  {
   "cell_type": "code",
   "execution_count": 25,
   "metadata": {},
   "outputs": [
    {
     "name": "stdout",
     "output_type": "stream",
     "text": [
      "  country          last_update    cases  deaths  recovered\n",
      "0      US  2020-10-16T23:24:02  8040922  218455    3197539\n",
      "1      IN  2020-10-16T23:24:02  7370468  112161    6453779\n",
      "2      BR  2020-10-16T23:24:02  5169386  152460    4526393\n",
      "3      RU  2020-10-16T23:24:02  1361317   23580    1051780\n",
      "4      AR  2020-10-16T23:24:02   949063   25342     764859\n"
     ]
    },
    {
     "name": "stderr",
     "output_type": "stream",
     "text": [
      "/home/jupyterlab/conda/envs/python/lib/python3.6/site-packages/ipykernel_launcher.py:3: FutureWarning: pandas.io.json.json_normalize is deprecated, use pandas.json_normalize instead\n",
      "  This is separate from the ipykernel package so we can avoid doing imports until\n"
     ]
    }
   ],
   "source": [
    "record_date = '2020-10-17'\n",
    "covid_url = 'https://covid19-api.org/api/status?date='+record_date\n",
    "df_covid_worldwide = pd.io.json.json_normalize(get_json(covid_url))\n",
    "\n",
    "print(df_covid_worldwide.head())"
   ]
  },
  {
   "cell_type": "markdown",
   "metadata": {},
   "source": [
    "## Merubah Format date\n",
    "\n",
    "Ubah format kolom 'last_update' menggunakan fungsi to_datetime dengan format YYYY-mm-dd HH:MM:SS. Lalu ubah bentuk datetime ke bentuk date dengan fungsi date() melalui fungsi lambda untuk mengubah setiap row-nya."
   ]
  },
  {
   "cell_type": "code",
   "execution_count": 26,
   "metadata": {},
   "outputs": [],
   "source": [
    "\n",
    "df_covid_worldwide['last_update'] = pd.to_datetime(df_covid_worldwide['last_update'], format='%Y-%m-%d %H:%M:%S')\n",
    "df_covid_worldwide['last_update'] = df_covid_worldwide['last_update'].apply(lambda x: x.date())"
   ]
  },
  {
   "cell_type": "markdown",
   "metadata": {},
   "source": [
    "## Mengambil Data Countries\n",
    "\n",
    "Buatlah dataframe countries dengan memanggil variable countries_url ke api covid19-api.org. Lalu ubah nama kolom alpha2 menjadi country, kemudian ambil hanya kolom name dan country saja untuk dataframe countries (df_countries) ini."
   ]
  },
  {
   "cell_type": "code",
   "execution_count": 27,
   "metadata": {},
   "outputs": [
    {
     "name": "stdout",
     "output_type": "stream",
     "text": [
      "          name country\n",
      "0  Afghanistan      AF\n",
      "1      Albania      AL\n",
      "2      Algeria      DZ\n",
      "3      Andorra      AD\n",
      "4       Angola      AO\n"
     ]
    },
    {
     "name": "stderr",
     "output_type": "stream",
     "text": [
      "/home/jupyterlab/conda/envs/python/lib/python3.6/site-packages/ipykernel_launcher.py:2: FutureWarning: pandas.io.json.json_normalize is deprecated, use pandas.json_normalize instead\n",
      "  \n"
     ]
    }
   ],
   "source": [
    "countries_url = 'https://covid19-api.org/api/countries'\n",
    "df_countries = pd.io.json.json_normalize(get_json(countries_url))\n",
    "df_countries = df_countries.rename(columns={'alpha2': 'country'})[['name','country']]\n",
    "\n",
    "print(df_countries.head())"
   ]
  },
  {
   "cell_type": "markdown",
   "metadata": {},
   "source": [
    "## Merge Covid19 Data dan Countries\n",
    "\n",
    "Selanjutnya adalah mapping data covid19 dan data country. Gunakan fungsi merge pada pandas untuk menggabungkan df_covid_worldwide dan df_countries. Untuk merge, gunakan kolom country. Lalu print sample data dengan menggunakan head()."
   ]
  },
  {
   "cell_type": "code",
   "execution_count": 28,
   "metadata": {},
   "outputs": [
    {
     "name": "stdout",
     "output_type": "stream",
     "text": [
      "  country last_update    cases  deaths  recovered                      name\n",
      "0      US  2020-10-16  8040922  218455    3197539  United States of America\n",
      "1      IN  2020-10-16  7370468  112161    6453779                     India\n",
      "2      BR  2020-10-16  5169386  152460    4526393                    Brazil\n",
      "3      RU  2020-10-16  1361317   23580    1051780        Russian Federation\n",
      "4      AR  2020-10-16   949063   25342     764859                 Argentina\n"
     ]
    }
   ],
   "source": [
    "df_covid_denormalized = pd.merge(df_covid_worldwide, df_countries, on='country')\n",
    "\n",
    "print(df_covid_denormalized.head())"
   ]
  },
  {
   "cell_type": "markdown",
   "metadata": {},
   "source": [
    "## Menghitung Fatality Ratio\n",
    "\n",
    "Tambahkan satu kolom tambahan yaitu fatality_ratio, yang merupakan pembagian antara kolom deaths dan cases."
   ]
  },
  {
   "cell_type": "code",
   "execution_count": 29,
   "metadata": {},
   "outputs": [],
   "source": [
    "df_covid_denormalized['fatality_ratio'] = df_covid_denormalized['deaths']/df_covid_denormalized['cases']"
   ]
  },
  {
   "cell_type": "markdown",
   "metadata": {},
   "source": [
    "## Negara-negara dengan Fatality Ratio Tertinggi\n",
    "\n",
    "Ambil top 20 negara dengan value kolom fatality_ratio tertinggi dengan menggunakan fungsi sort_values."
   ]
  },
  {
   "cell_type": "code",
   "execution_count": 30,
   "metadata": {},
   "outputs": [
    {
     "data": {
      "text/html": [
       "<div>\n",
       "<style scoped>\n",
       "    .dataframe tbody tr th:only-of-type {\n",
       "        vertical-align: middle;\n",
       "    }\n",
       "\n",
       "    .dataframe tbody tr th {\n",
       "        vertical-align: top;\n",
       "    }\n",
       "\n",
       "    .dataframe thead th {\n",
       "        text-align: right;\n",
       "    }\n",
       "</style>\n",
       "<table border=\"1\" class=\"dataframe\">\n",
       "  <thead>\n",
       "    <tr style=\"text-align: right;\">\n",
       "      <th></th>\n",
       "      <th>country</th>\n",
       "      <th>last_update</th>\n",
       "      <th>cases</th>\n",
       "      <th>deaths</th>\n",
       "      <th>recovered</th>\n",
       "      <th>name</th>\n",
       "      <th>fatality_ratio</th>\n",
       "    </tr>\n",
       "  </thead>\n",
       "  <tbody>\n",
       "    <tr>\n",
       "      <th>151</th>\n",
       "      <td>YE</td>\n",
       "      <td>2020-10-16</td>\n",
       "      <td>2055</td>\n",
       "      <td>596</td>\n",
       "      <td>1335</td>\n",
       "      <td>Yemen</td>\n",
       "      <td>0.290024</td>\n",
       "    </tr>\n",
       "    <tr>\n",
       "      <th>9</th>\n",
       "      <td>MX</td>\n",
       "      <td>2020-10-16</td>\n",
       "      <td>834910</td>\n",
       "      <td>85285</td>\n",
       "      <td>707631</td>\n",
       "      <td>Mexico</td>\n",
       "      <td>0.102149</td>\n",
       "    </tr>\n",
       "    <tr>\n",
       "      <th>191</th>\n",
       "      <td>EH</td>\n",
       "      <td>2020-10-16</td>\n",
       "      <td>10</td>\n",
       "      <td>1</td>\n",
       "      <td>8</td>\n",
       "      <td>Western Sahara</td>\n",
       "      <td>0.100000</td>\n",
       "    </tr>\n",
       "    <tr>\n",
       "      <th>15</th>\n",
       "      <td>IT</td>\n",
       "      <td>2020-10-16</td>\n",
       "      <td>391611</td>\n",
       "      <td>36427</td>\n",
       "      <td>247872</td>\n",
       "      <td>Italy</td>\n",
       "      <td>0.093018</td>\n",
       "    </tr>\n",
       "    <tr>\n",
       "      <th>32</th>\n",
       "      <td>EC</td>\n",
       "      <td>2020-10-16</td>\n",
       "      <td>151659</td>\n",
       "      <td>12357</td>\n",
       "      <td>128134</td>\n",
       "      <td>Ecuador</td>\n",
       "      <td>0.081479</td>\n",
       "    </tr>\n",
       "    <tr>\n",
       "      <th>156</th>\n",
       "      <td>TD</td>\n",
       "      <td>2020-10-16</td>\n",
       "      <td>1361</td>\n",
       "      <td>93</td>\n",
       "      <td>1138</td>\n",
       "      <td>Chad</td>\n",
       "      <td>0.068332</td>\n",
       "    </tr>\n",
       "    <tr>\n",
       "      <th>11</th>\n",
       "      <td>GB</td>\n",
       "      <td>2020-10-16</td>\n",
       "      <td>692104</td>\n",
       "      <td>43519</td>\n",
       "      <td>2564</td>\n",
       "      <td>United Kingdom of Great Britain and Northern I...</td>\n",
       "      <td>0.062879</td>\n",
       "    </tr>\n",
       "    <tr>\n",
       "      <th>182</th>\n",
       "      <td>FJ</td>\n",
       "      <td>2020-10-16</td>\n",
       "      <td>32</td>\n",
       "      <td>2</td>\n",
       "      <td>30</td>\n",
       "      <td>Fiji</td>\n",
       "      <td>0.062500</td>\n",
       "    </tr>\n",
       "    <tr>\n",
       "      <th>98</th>\n",
       "      <td>SD</td>\n",
       "      <td>2020-10-16</td>\n",
       "      <td>13691</td>\n",
       "      <td>836</td>\n",
       "      <td>6764</td>\n",
       "      <td>Sudan</td>\n",
       "      <td>0.061062</td>\n",
       "    </tr>\n",
       "    <tr>\n",
       "      <th>33</th>\n",
       "      <td>BO</td>\n",
       "      <td>2020-10-16</td>\n",
       "      <td>139319</td>\n",
       "      <td>8407</td>\n",
       "      <td>103499</td>\n",
       "      <td>Plurinational State of Bolivia</td>\n",
       "      <td>0.060344</td>\n",
       "    </tr>\n",
       "    <tr>\n",
       "      <th>155</th>\n",
       "      <td>LR</td>\n",
       "      <td>2020-10-16</td>\n",
       "      <td>1377</td>\n",
       "      <td>82</td>\n",
       "      <td>1264</td>\n",
       "      <td>Liberia</td>\n",
       "      <td>0.059550</td>\n",
       "    </tr>\n",
       "    <tr>\n",
       "      <th>42</th>\n",
       "      <td>EG</td>\n",
       "      <td>2020-10-16</td>\n",
       "      <td>105159</td>\n",
       "      <td>6099</td>\n",
       "      <td>98089</td>\n",
       "      <td>Egypt</td>\n",
       "      <td>0.057998</td>\n",
       "    </tr>\n",
       "    <tr>\n",
       "      <th>43</th>\n",
       "      <td>SE</td>\n",
       "      <td>2020-10-16</td>\n",
       "      <td>103200</td>\n",
       "      <td>5918</td>\n",
       "      <td>0</td>\n",
       "      <td>Sweden</td>\n",
       "      <td>0.057345</td>\n",
       "    </tr>\n",
       "    <tr>\n",
       "      <th>12</th>\n",
       "      <td>IR</td>\n",
       "      <td>2020-10-16</td>\n",
       "      <td>522387</td>\n",
       "      <td>29870</td>\n",
       "      <td>420910</td>\n",
       "      <td>Islamic Republic of Iran</td>\n",
       "      <td>0.057180</td>\n",
       "    </tr>\n",
       "    <tr>\n",
       "      <th>157</th>\n",
       "      <td>NE</td>\n",
       "      <td>2020-10-16</td>\n",
       "      <td>1209</td>\n",
       "      <td>69</td>\n",
       "      <td>1126</td>\n",
       "      <td>Niger</td>\n",
       "      <td>0.057072</td>\n",
       "    </tr>\n",
       "    <tr>\n",
       "      <th>160</th>\n",
       "      <td>SM</td>\n",
       "      <td>2020-10-16</td>\n",
       "      <td>759</td>\n",
       "      <td>42</td>\n",
       "      <td>685</td>\n",
       "      <td>San Marino</td>\n",
       "      <td>0.055336</td>\n",
       "    </tr>\n",
       "    <tr>\n",
       "      <th>27</th>\n",
       "      <td>BE</td>\n",
       "      <td>2020-10-16</td>\n",
       "      <td>191959</td>\n",
       "      <td>10327</td>\n",
       "      <td>20720</td>\n",
       "      <td>Belgium</td>\n",
       "      <td>0.053798</td>\n",
       "    </tr>\n",
       "    <tr>\n",
       "      <th>48</th>\n",
       "      <td>CN</td>\n",
       "      <td>2020-10-16</td>\n",
       "      <td>90912</td>\n",
       "      <td>4739</td>\n",
       "      <td>85751</td>\n",
       "      <td>China</td>\n",
       "      <td>0.052127</td>\n",
       "    </tr>\n",
       "    <tr>\n",
       "      <th>26</th>\n",
       "      <td>CA</td>\n",
       "      <td>2020-10-16</td>\n",
       "      <td>196398</td>\n",
       "      <td>9778</td>\n",
       "      <td>165887</td>\n",
       "      <td>Canada</td>\n",
       "      <td>0.049787</td>\n",
       "    </tr>\n",
       "    <tr>\n",
       "      <th>129</th>\n",
       "      <td>SY</td>\n",
       "      <td>2020-10-16</td>\n",
       "      <td>4987</td>\n",
       "      <td>241</td>\n",
       "      <td>1456</td>\n",
       "      <td>Syrian Arab Republic</td>\n",
       "      <td>0.048326</td>\n",
       "    </tr>\n",
       "  </tbody>\n",
       "</table>\n",
       "</div>"
      ],
      "text/plain": [
       "    country last_update   cases  deaths  recovered  \\\n",
       "151      YE  2020-10-16    2055     596       1335   \n",
       "9        MX  2020-10-16  834910   85285     707631   \n",
       "191      EH  2020-10-16      10       1          8   \n",
       "15       IT  2020-10-16  391611   36427     247872   \n",
       "32       EC  2020-10-16  151659   12357     128134   \n",
       "156      TD  2020-10-16    1361      93       1138   \n",
       "11       GB  2020-10-16  692104   43519       2564   \n",
       "182      FJ  2020-10-16      32       2         30   \n",
       "98       SD  2020-10-16   13691     836       6764   \n",
       "33       BO  2020-10-16  139319    8407     103499   \n",
       "155      LR  2020-10-16    1377      82       1264   \n",
       "42       EG  2020-10-16  105159    6099      98089   \n",
       "43       SE  2020-10-16  103200    5918          0   \n",
       "12       IR  2020-10-16  522387   29870     420910   \n",
       "157      NE  2020-10-16    1209      69       1126   \n",
       "160      SM  2020-10-16     759      42        685   \n",
       "27       BE  2020-10-16  191959   10327      20720   \n",
       "48       CN  2020-10-16   90912    4739      85751   \n",
       "26       CA  2020-10-16  196398    9778     165887   \n",
       "129      SY  2020-10-16    4987     241       1456   \n",
       "\n",
       "                                                  name  fatality_ratio  \n",
       "151                                              Yemen        0.290024  \n",
       "9                                               Mexico        0.102149  \n",
       "191                                     Western Sahara        0.100000  \n",
       "15                                               Italy        0.093018  \n",
       "32                                             Ecuador        0.081479  \n",
       "156                                               Chad        0.068332  \n",
       "11   United Kingdom of Great Britain and Northern I...        0.062879  \n",
       "182                                               Fiji        0.062500  \n",
       "98                                               Sudan        0.061062  \n",
       "33                      Plurinational State of Bolivia        0.060344  \n",
       "155                                            Liberia        0.059550  \n",
       "42                                               Egypt        0.057998  \n",
       "43                                              Sweden        0.057345  \n",
       "12                            Islamic Republic of Iran        0.057180  \n",
       "157                                              Niger        0.057072  \n",
       "160                                         San Marino        0.055336  \n",
       "27                                             Belgium        0.053798  \n",
       "48                                               China        0.052127  \n",
       "26                                              Canada        0.049787  \n",
       "129                               Syrian Arab Republic        0.048326  "
      ]
     },
     "execution_count": 30,
     "metadata": {},
     "output_type": "execute_result"
    }
   ],
   "source": [
    "df_top_20_fatality_rate = df_covid_denormalized.sort_values(by='fatality_ratio', ascending=False).head(20)\n",
    "df_top_20_fatality_rate"
   ]
  },
  {
   "cell_type": "markdown",
   "metadata": {},
   "source": [
    "## Visualisasi Negara dengan Fatality Ratio Tertinggi\n",
    "\n",
    "Untuk memvisualisasikan negara-negara dengan kasus fatality rate tertinggi akibat covid-19 ini dapat dilakukan dengan menggunakan bar chart.  Di sini tentukan terlebih dahulu isi dari variable x axis dan y axis.\n",
    "\n",
    "Variabel x axis adalah kolom name, dan kolom y atau value nya adalah kolom fatality_ratio dan gunakan fungsi plt.bar([value x axis, value y axis]).\n",
    "\n",
    "Label sumbu x diputar 90 derajat untuk menghindari bertumpuknya nama-nama negara pada posisi 0 derajat."
   ]
  },
  {
   "cell_type": "code",
   "execution_count": 31,
   "metadata": {},
   "outputs": [
    {
     "data": {
      "image/png": "[encoded data removed]",
      "text/plain": [
       "<Figure size 1440x576 with 1 Axes>"
      ]
     },
     "metadata": {
      "needs_background": "light"
     },
     "output_type": "display_data"
    }
   ],
   "source": [
    "import matplotlib.pyplot as plt\n",
    "plt.figure(figsize=(20, 8))\n",
    "x = df_top_20_fatality_rate['name']\n",
    "y = df_top_20_fatality_rate['fatality_ratio']\n",
    "plt.bar(x,y)\n",
    "plt.xlabel('Country Name')\n",
    "plt.ylabel('Fatality Rate')\n",
    "plt.title('Top 20 Highest Fatality Rate Countries')\n",
    "plt.xticks(rotation=90)\n",
    "plt.tight_layout()\n",
    "plt.show()"
   ]
  },
  {
   "cell_type": "markdown",
   "metadata": {},
   "source": [
    "## Menggabungkan Dataframe\n",
    "\n",
    "Selanjutnya adalah membandingkan kasus covid19 di Indonesia (ID) dengan negara-negara tetangga, yaitu:\n",
    "\n",
    "    MY -> Malaysia,\n",
    "    SG -> Singapure,\n",
    "    TH -> Thailand,\n",
    "    VN -> Vietnam.\n",
    "\n",
    "Untuk itu, api country dipanggil berkali-kali sebanyak negara yang akan kita bandingkan.\n",
    "\n",
    "Gunakan fungsi pd.io.json.json_normalize dan panggil function yang sudah dibuat sebelumnya, yaitu get_json().\n",
    "\n",
    "Gunakan fungsi datetime untuk merubah string ke bentuk datetime (YYYY-mm-dd HH:MM:SS) yang selanjutnya diubah ke format date.\n",
    "\n",
    "Cetaklah lima data teratas dari dataframe yang telah dibentuk."
   ]
  },
  {
   "cell_type": "code",
   "execution_count": 32,
   "metadata": {},
   "outputs": [
    {
     "name": "stderr",
     "output_type": "stream",
     "text": [
      "/home/jupyterlab/conda/envs/python/lib/python3.6/site-packages/ipykernel_launcher.py:5: FutureWarning: pandas.io.json.json_normalize is deprecated, use pandas.json_normalize instead\n",
      "  \"\"\"\n"
     ]
    },
    {
     "name": "stdout",
     "output_type": "stream",
     "text": [
      "  country last_update  cases  deaths  recovered\n",
      "0      VN  2020-10-17   1124      35       1031\n",
      "1      VN  2020-10-16   1124      35       1030\n",
      "2      VN  2020-10-15   1124      35       1030\n",
      "3      VN  2020-10-14   1122      35       1029\n",
      "4      VN  2020-10-13   1113      35       1025\n"
     ]
    }
   ],
   "source": [
    "countries = ['ID','MY','SG','TH','VN']\n",
    "i = 0\n",
    "for country in countries:\n",
    "    covid_timeline_url = 'https://covid19-api.org/api/timeline/'+country\n",
    "    df_covid_timeline = pd.io.json.json_normalize(get_json(covid_timeline_url))\n",
    "    df_covid_timeline['last_update'] = pd.to_datetime(df_covid_timeline['last_update'], format='%Y-%m-%dT%H:%M:%S')\n",
    "    df_covid_timeline['last_update'] = df_covid_timeline['last_update'].apply(lambda x: x.date())\n",
    "    if i==0:\n",
    "        df_covid_timeline_merged = df_covid_timeline\n",
    "    else:\n",
    "        df_covid_timeline_merged = df_covid_timeline.append(df_covid_timeline_merged, ignore_index=True)\n",
    "    i=i+1\n",
    "\n",
    "print(df_covid_timeline_merged.head())"
   ]
  },
  {
   "cell_type": "markdown",
   "metadata": {},
   "source": [
    "## Merge Data Covid19 Dengan Data Country\n",
    "\n",
    "Lalu gabungkan df_covid_timeline_merged dengan df_countries dengan kolom country sebagai pivot."
   ]
  },
  {
   "cell_type": "code",
   "execution_count": 33,
   "metadata": {},
   "outputs": [],
   "source": [
    "df_covid_timeline_denormalized = pd.merge(df_covid_timeline_merged, df_countries, on='country')"
   ]
  },
  {
   "cell_type": "markdown",
   "metadata": {},
   "source": [
    "## Kasus Covid-19 di ASEAN pada Bulan Maret 2020\n",
    "\n",
    "Filter kolom last_update dari data covid19 sehingga hanya data dari tanggal 1 Maret 2020 ke atas yangdiambil. Format datetime.date menggunakan format YYYY, mm, dd."
   ]
  },
  {
   "cell_type": "code",
   "execution_count": 34,
   "metadata": {},
   "outputs": [],
   "source": [
    "import datetime\n",
    "df_covid_timeline_denormalized = df_covid_timeline_denormalized[(df_covid_timeline_denormalized['last_update'] >= datetime.date(2020, 3, 1))]"
   ]
  },
  {
   "cell_type": "markdown",
   "metadata": {},
   "source": [
    "## Visualisasi Kasus Covid-19 di ASEAN\n",
    "\n",
    "Buat variable x dan y dimana x adalah tanggal (last_update) pada tiap-tiap negara dan y adalah jumlah kasus (cases) pada tiap-tiap negara. Lalu plot x dan y untuk menggambar line chart."
   ]
  },
  {
   "cell_type": "code",
   "execution_count": 35,
   "metadata": {},
   "outputs": [
    {
     "data": {
      "image/png": "[encoded data removed]",
      "text/plain": [
       "<Figure size 432x288 with 1 Axes>"
      ]
     },
     "metadata": {
      "needs_background": "light"
     },
     "output_type": "display_data"
    }
   ],
   "source": [
    "import matplotlib.pyplot as plt\n",
    "plt.clf()\n",
    "countries = ['ID','MY','SG','TH','VN']\n",
    "for country in countries:\n",
    "    country_data = df_covid_timeline_denormalized['country']==country\n",
    "    x = df_covid_timeline_denormalized[country_data]['last_update']\n",
    "    y = df_covid_timeline_denormalized[country_data]['cases']\n",
    "    plt.plot(x,y, label = country)\n",
    "\n",
    "plt.legend()\n",
    "plt.xlabel('Record Date')\n",
    "plt.ylabel('Total Cases')\n",
    "plt.title('Asean Covid19 Cases Comparison')\n",
    "plt.show()"
   ]
  },
  {
   "cell_type": "code",
   "execution_count": null,
   "metadata": {},
   "outputs": [],
   "source": []
  }
 ],
 "metadata": {
  "kernelspec": {
   "display_name": "Python 3",
   "language": "python",
   "name": "python3"
  },
  "language_info": {
   "codemirror_mode": {
    "name": "ipython",
    "version": 3
   },
   "file_extension": ".py",
   "mimetype": "text/x-python",
   "name": "python",
   "nbconvert_exporter": "python",
   "pygments_lexer": "ipython3",
   "version": "3.8.5"
  }
 },
 "nbformat": 4,
 "nbformat_minor": 4
}
